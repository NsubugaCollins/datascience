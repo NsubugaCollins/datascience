{
 "cells": [
  {
   "cell_type": "code",
   "execution_count": 2,
   "id": "fdc1932f",
   "metadata": {},
   "outputs": [
    {
     "name": "stdout",
     "output_type": "stream",
     "text": [
      "Series([], dtype: object)\n",
      "object\n"
     ]
    }
   ],
   "source": [
    "#pandas series is like a single column of data\n",
    "#more like one dimensional array\n",
    "#can hold data of different datatypes\n",
    "#each value in a series is associated with an index\n",
    "\n",
    "import pandas as pd \n",
    "ser = pd.Series()\n",
    "print(ser)\n",
    "print(ser.dtype)"
   ]
  },
  {
   "cell_type": "code",
   "execution_count": 3,
   "id": "b940d787",
   "metadata": {},
   "outputs": [
    {
     "name": "stdout",
     "output_type": "stream",
     "text": [
      "0    a\n",
      "1    b\n",
      "2    c\n",
      "3    d\n",
      "dtype: object\n"
     ]
    }
   ],
   "source": [
    "#convert numpy array to pandas series\n",
    "import numpy as np\n",
    "data = np.array(['a', 'b', 'c', 'd'])\n",
    "series1 = pd.Series(data)\n",
    "print(series1)"
   ]
  },
  {
   "cell_type": "code",
   "execution_count": 4,
   "id": "eea17311",
   "metadata": {},
   "outputs": [
    {
     "name": "stdout",
     "output_type": "stream",
     "text": [
      "0     Ambrose\n",
      "1    Benedict\n",
      "2     Clement\n",
      "3      Darius\n",
      "dtype: object\n"
     ]
    }
   ],
   "source": [
    "# Creating a Series from a list \n",
    "data1 = ['Ambrose', 'Benedict', 'Clement', 'Darius']\n",
    "series2 = pd.Series(data1)\n",
    "print(series2)"
   ]
  },
  {
   "cell_type": "code",
   "execution_count": 5,
   "id": "09edb7f3",
   "metadata": {},
   "outputs": [
    {
     "name": "stdout",
     "output_type": "stream",
     "text": [
      "age           25\n",
      "name        John\n",
      "city    New York\n",
      "dtype: object\n"
     ]
    }
   ],
   "source": [
    "# Creating a Series from a dictionary\n",
    "data_dict = {'age': 25, 'name': 'John', 'city': 'New York'}\n",
    "series3 = pd.Series(data_dict)\n",
    "print(series3)"
   ]
  },
  {
   "cell_type": "code",
   "execution_count": 6,
   "id": "fdf55324",
   "metadata": {},
   "outputs": [
    {
     "name": "stdout",
     "output_type": "stream",
     "text": [
      "0     5\n",
      "1     6\n",
      "2     7\n",
      "3     8\n",
      "4     9\n",
      "5    10\n",
      "6    11\n",
      "7    12\n",
      "8    13\n",
      "9    14\n",
      "dtype: int64\n"
     ]
    }
   ],
   "source": [
    "#some functions in series\n",
    "#range() fuction\n",
    "series4 = pd.Series(range(5, 15))\n",
    "print(series4)"
   ]
  },
  {
   "cell_type": "code",
   "execution_count": 12,
   "id": "93455351",
   "metadata": {},
   "outputs": [
    {
     "name": "stdout",
     "output_type": "stream",
     "text": [
      "0     1.00\n",
      "1     3.25\n",
      "2     5.50\n",
      "3     7.75\n",
      "4    10.00\n",
      "dtype: float64\n"
     ]
    }
   ],
   "source": [
    "#numpy.linspace() function\n",
    "series5 = pd.Series(np.linspace(1, 10, 5))\n",
    "print(series5)"
   ]
  },
  {
   "cell_type": "code",
   "execution_count": 17,
   "id": "48114cd1",
   "metadata": {},
   "outputs": [
    {
     "name": "stdout",
     "output_type": "stream",
     "text": [
      "0    1.0\n",
      "1    2.8\n",
      "2    4.6\n",
      "3    6.4\n",
      "4    8.2\n",
      "dtype: float64\n"
     ]
    }
   ],
   "source": [
    "#numpy.linspace() function\n",
    "series6 = pd.Series(np.linspace(1, 10, 5, endpoint=False))\n",
    "print(series6)"
   ]
  }
 ],
 "metadata": {
  "kernelspec": {
   "display_name": "Python 3",
   "language": "python",
   "name": "python3"
  },
  "language_info": {
   "codemirror_mode": {
    "name": "ipython",
    "version": 3
   },
   "file_extension": ".py",
   "mimetype": "text/x-python",
   "name": "python",
   "nbconvert_exporter": "python",
   "pygments_lexer": "ipython3",
   "version": "3.10.11"
  }
 },
 "nbformat": 4,
 "nbformat_minor": 5
}
