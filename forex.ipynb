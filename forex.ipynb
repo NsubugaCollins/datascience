{
 "cells": [
  {
   "cell_type": "code",
   "execution_count": null,
   "id": "a17c279f",
   "metadata": {},
   "outputs": [],
   "source": [
    "#forex predictions data analysis\n",
    "#objectives\n",
    "# 1. inspect the data\n",
    "# 2."
   ]
  },
  {
   "cell_type": "code",
   "execution_count": null,
   "id": "440a0eae",
   "metadata": {},
   "outputs": [],
   "source": [
    "# import all the necessary libraries\n",
    "import pandas as pd\n",
    "import numpy as np\n",
    "import matplotlib.pyplot as plt\n",
    "import seaborn as sns\n",
    "from datetime import datetime"
   ]
  },
  {
   "cell_type": "code",
   "execution_count": 7,
   "id": "2fd236b0",
   "metadata": {},
   "outputs": [
    {
     "data": {
      "text/plain": [
       "Date                object\n",
       "Open               float64\n",
       "High               float64\n",
       "Low                float64\n",
       "Close              float64\n",
       "Volume              object\n",
       "Predicted_Close    float64\n",
       "Currency_Pair       object\n",
       "Signal              object\n",
       "Confidence         float64\n",
       "dtype: object"
      ]
     },
     "execution_count": 7,
     "metadata": {},
     "output_type": "execute_result"
    }
   ],
   "source": [
    "#load the dataset\n",
    "df = pd.read_csv('forex_predictions_data.csv')\n",
    "#initial inspection\n",
    "df.head()\n",
    "df.dtypes\n"
   ]
  },
  {
   "cell_type": "code",
   "execution_count": 8,
   "id": "8738fd49",
   "metadata": {},
   "outputs": [
    {
     "data": {
      "text/plain": [
       "(229, 10)"
      ]
     },
     "execution_count": 8,
     "metadata": {},
     "output_type": "execute_result"
    }
   ],
   "source": [
    "df.shape"
   ]
  },
  {
   "cell_type": "code",
   "execution_count": 9,
   "id": "be0200cb",
   "metadata": {},
   "outputs": [
    {
     "name": "stdout",
     "output_type": "stream",
     "text": [
      "missing values in each column\n"
     ]
    },
    {
     "data": {
      "text/plain": [
       "Date                3\n",
       "Open                5\n",
       "High                9\n",
       "Low                 4\n",
       "Close              17\n",
       "Volume              3\n",
       "Predicted_Close     7\n",
       "Currency_Pair       0\n",
       "Signal              2\n",
       "Confidence         11\n",
       "dtype: int64"
      ]
     },
     "execution_count": 9,
     "metadata": {},
     "output_type": "execute_result"
    }
   ],
   "source": [
    "#handling bad data: empty cells/values, wrong data, wrong formats, duplicates and out liers\n",
    "#empty values\n",
    "print('missing values in each column')\n",
    "df.isnull().sum()\n"
   ]
  },
  {
   "cell_type": "code",
   "execution_count": 15,
   "id": "fcdbdc86",
   "metadata": {},
   "outputs": [
    {
     "name": "stdout",
     "output_type": "stream",
     "text": [
      "missing values after handling\n",
      "Date               3\n",
      "Open               0\n",
      "High               0\n",
      "Low                0\n",
      "Close              0\n",
      "Volume             0\n",
      "Predicted_Close    0\n",
      "Currency_Pair      0\n",
      "Signal             0\n",
      "Confidence         0\n",
      "dtype: int64\n"
     ]
    }
   ],
   "source": [
    "#handle missing values\n",
    "#gender F,M code numeric F=0, M=1\n",
    "#for numerical columns, we can fillmissing values with mean or median\n",
    "numeric_cols = ['Open','High', 'Close', 'Low', 'Volume', 'Predicted_Close', 'Confidence']\n",
    "for col in numeric_cols:\n",
    "    if col in df.columns:\n",
    "        df[col] = pd.to_numeric(df[col], errors='coerce')#convert to numeric, coercing errors to NaN\n",
    "        df[col] = df[col].fillna(df[col].median())\n",
    "        \n",
    "        \n",
    "categorical_cols =['Signal']\n",
    "for col in categorical_cols:\n",
    "    if col in df.columns:\n",
    "        df[col] = df[col].fillna(df[col].mode()[0])#fill NaN value with the mode of the column\n",
    "#check again for the missing values\n",
    "print('missing values after handling')\n",
    "print(df.isnull().sum())        \n",
    "               \n",
    "        "
   ]
  }
 ],
 "metadata": {
  "kernelspec": {
   "display_name": "Python 3",
   "language": "python",
   "name": "python3"
  },
  "language_info": {
   "codemirror_mode": {
    "name": "ipython",
    "version": 3
   },
   "file_extension": ".py",
   "mimetype": "text/x-python",
   "name": "python",
   "nbconvert_exporter": "python",
   "pygments_lexer": "ipython3",
   "version": "3.13.3"
  }
 },
 "nbformat": 4,
 "nbformat_minor": 5
}
