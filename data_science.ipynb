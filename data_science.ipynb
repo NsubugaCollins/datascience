{
 "cells": [
  {
   "cell_type": "code",
   "execution_count": 12,
   "id": "1f16e82b",
   "metadata": {},
   "outputs": [],
   "source": [
    "#reading and writing files\n",
    "#opening a file in a read mode\n",
    "file = open(\"collins.txt\", \"r\") #'r' is the read mode\n",
    "#reading the entire content of the file\n",
    "#reading the content of the file\n"
   ]
  },
  {
   "cell_type": "code",
   "execution_count": 13,
   "id": "86c286c3",
   "metadata": {},
   "outputs": [
    {
     "name": "stdout",
     "output_type": "stream",
     "text": [
      "helllooooo\n"
     ]
    }
   ],
   "source": [
    "content = file.read()\n",
    "#print content\n",
    "print(content)\n",
    "file.close()"
   ]
  },
  {
   "cell_type": "code",
   "execution_count": 19,
   "id": "1fea0587",
   "metadata": {},
   "outputs": [
    {
     "name": "stdout",
     "output_type": "stream",
     "text": [
      "welcome back\n",
      "\n",
      "<_io.TextIOWrapper name='collo.txt' mode='w' encoding='cp1252'>\n"
     ]
    }
   ],
   "source": [
    "#writing to a file\n",
    "file = open(\"collo.txt\", \"w\")\n",
    "file.write(\"welcome back\\n\")\n",
    "with open(\"collo.txt\", \"r\") as file:\n",
    "  content = file.read()\n",
    "print(content)\n",
    "#appending to a file\n",
    "with open(\"collo.txt\", \"w\") as file:\n",
    "    file.write(\"append\")\n",
    "    print(file)"
   ]
  }
 ],
 "metadata": {
  "kernelspec": {
   "display_name": "Python 3",
   "language": "python",
   "name": "python3"
  },
  "language_info": {
   "codemirror_mode": {
    "name": "ipython",
    "version": 3
   },
   "file_extension": ".py",
   "mimetype": "text/x-python",
   "name": "python",
   "nbconvert_exporter": "python",
   "pygments_lexer": "ipython3",
   "version": "3.13.3"
  }
 },
 "nbformat": 4,
 "nbformat_minor": 5
}
